{
 "metadata": {
  "language_info": {
   "codemirror_mode": {
    "name": "ipython",
    "version": 3
   },
   "file_extension": ".py",
   "mimetype": "text/x-python",
   "name": "python",
   "nbconvert_exporter": "python",
   "pygments_lexer": "ipython3",
   "version": "3.9.4"
  },
  "orig_nbformat": 2,
  "kernelspec": {
   "name": "python394jvsc74a57bd009897ff55f6215f3b6d2e541909b700e1f590d1c6582076a6576e9b0113f59c0",
   "display_name": "Python 3.9.4 64-bit ('stun-rotary': conda)"
  },
  "metadata": {
   "interpreter": {
    "hash": "09897ff55f6215f3b6d2e541909b700e1f590d1c6582076a6576e9b0113f59c0"
   }
  }
 },
 "nbformat": 4,
 "nbformat_minor": 2,
 "cells": [
  {
   "cell_type": "code",
   "execution_count": 1,
   "metadata": {},
   "outputs": [],
   "source": [
    "import pandas as pd\n",
    "import matplotlib.pyplot as plt\n",
    "import seaborn as sns\n",
    "import geopandas as gpd\n",
    "import earthpy as et\n",
    "import numpy as np"
   ]
  },
  {
   "source": [
    "# Cybera - Bridging the Connectivity Challenge\n",
    "\n",
    "1. Load datasets for internet Connectivity, social economic devlopment, shapefiles for geospatial datasets\n",
    "2. Visualize distribution of internet connectivity via speed (download/upload), coverage, etc\n",
    "3. Visualize socioeconomic devlopment via heatmaps of various factors like per-capita income, fertility rates, eduction etc \n",
    "4. Use statistical analysis to find effect of internet speed/availablity on socioeconomic development for alberta or lack thereof. \n",
    "5. Find/Define metrics to measure what areas to target when improving internet connectivity. "
   ],
   "cell_type": "markdown",
   "metadata": {}
  },
  {
   "cell_type": "code",
   "execution_count": 2,
   "metadata": {},
   "outputs": [],
   "source": [
    "# Read Internet data sets from Cybera's website\n",
    "\n",
    "# CIRA's dataset\n",
    "df_cira = pd.read_csv('https://swift-yyc.cloud.cybera.ca:8080/v1/AUTH_233e84cd313945c992b4b585f7b9125d/RMA-CIRA-Data-DSFA2020/RMADataForHackathon21-04-23.csv')\n",
    "\n",
    "links_mlab = [\n",
    "    'https://swift-yyc.cloud.cybera.ca:8080/v1/AUTH_233e84cd313945c992b4b585f7b9125d/MLabDat/2020-07-01_Mlab_data_start.csv',\n",
    "    'https://swift-yyc.cloud.cybera.ca:8080/v1/AUTH_233e84cd313945c992b4b585f7b9125d/MLabDat/2020-08-01_Mlab_data_start.csv',\n",
    "    'https://swift-yyc.cloud.cybera.ca:8080/v1/AUTH_233e84cd313945c992b4b585f7b9125d/MLabDat/2020-09-01_Mlab_data_start.csv',\n",
    "    'https://swift-yyc.cloud.cybera.ca:8080/v1/AUTH_233e84cd313945c992b4b585f7b9125d/MLabDat/2020-10-01_Mlab_data_start.csv',\n",
    "    'https://swift-yyc.cloud.cybera.ca:8080/v1/AUTH_233e84cd313945c992b4b585f7b9125d/MLabDat/2020-11-01_Mlab_data_start.csv',\n",
    "    'https://swift-yyc.cloud.cybera.ca:8080/v1/AUTH_233e84cd313945c992b4b585f7b9125d/MLabDat/2020-12-01_Mlab_data_start.csv',\n",
    "    'https://swift-yyc.cloud.cybera.ca:8080/v1/AUTH_233e84cd313945c992b4b585f7b9125d/MLabDat/2021-01-01_Mlab_data_start.csv',\n",
    "    'https://swift-yyc.cloud.cybera.ca:8080/v1/AUTH_233e84cd313945c992b4b585f7b9125d/MLabDat/2021-02-01_Mlab_data_start.csv',\n",
    "    'https://swift-yyc.cloud.cybera.ca:8080/v1/AUTH_233e84cd313945c992b4b585f7b9125d/MLabDat/2021-03-01_Mlab_data_start.csv',\n",
    "    'https://swift-yyc.cloud.cybera.ca:8080/v1/AUTH_233e84cd313945c992b4b585f7b9125d/MLabDat/2021-04-01_Mlab_data_start.csv'\n",
    "]\n",
    "df_list = []\n",
    "for item in links_mlab:\n",
    "    df_list.append(pd.read_csv(item, index_col=0))\n",
    "\n",
    "# MLAB dataset\n",
    "df_mlab = pd.concat(df_list)"
   ]
  },
  {
   "source": [
    "TODO: Load ookla shape files\n",
    "\n",
    "Link: https://swift-yyc.cloud.cybera.ca:8080/v1/AUTH_233e84cd313945c992b4b585f7b9125d/Ookla_Data/AB_ookla_data_2020.zip\n"
   ],
   "cell_type": "markdown",
   "metadata": {}
  }
 ]
}